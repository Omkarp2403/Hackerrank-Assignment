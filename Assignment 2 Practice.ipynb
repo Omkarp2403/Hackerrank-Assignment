{
 "cells": [
  {
   "cell_type": "markdown",
   "id": "8f28cd94",
   "metadata": {},
   "source": [
    "# Question 01"
   ]
  },
  {
   "cell_type": "code",
   "execution_count": 2,
   "id": "f76c7370",
   "metadata": {},
   "outputs": [
    {
     "name": "stdout",
     "output_type": "stream",
     "text": [
      "5\n",
      "[0, 1, 1, 8, 27]\n"
     ]
    }
   ],
   "source": [
    "cube = lambda x: x**3# complete the lambda function \n",
    "\n",
    "def fibonacci(n):\n",
    "   \n",
    "    storage = [0, 1]\n",
    "    for i in range(2, n):\n",
    "        storage.append(storage[i-1] + storage[i-2])\n",
    "    return(storage[0:n])\n",
    "    \n",
    "if __name__ == '__main__':\n",
    "    n = int(input())\n",
    "    print(list(map(cube, fibonacci(n))))"
   ]
  },
  {
   "cell_type": "markdown",
   "id": "aa06f649",
   "metadata": {},
   "source": [
    "# Question 02"
   ]
  },
  {
   "cell_type": "code",
   "execution_count": 5,
   "id": "e51ec138",
   "metadata": {},
   "outputs": [
    {
     "name": "stdout",
     "output_type": "stream",
     "text": [
      "1\n",
      "1\n",
      "1\n",
      "2\n",
      "[[0, 0, 0], [0, 0, 1], [0, 1, 0], [1, 0, 0], [1, 1, 1]]"
     ]
    }
   ],
   "source": [
    "if __name__ == '__main__':\n",
    "    x = int(input())\n",
    "    y = int(input())\n",
    "    z = int(input())\n",
    "    n = int(input())\n",
    "    \n",
    "ans = [[i, j, k] for i in range(x + 1) for j in range(y + 1) for k in range(z + 1) if i + j + k != n]\n",
    "                   \n",
    "print(ans,end='')\n",
    "    "
   ]
  },
  {
   "cell_type": "markdown",
   "id": "80383e0d",
   "metadata": {},
   "source": [
    "# Question 03 "
   ]
  },
  {
   "cell_type": "code",
   "execution_count": 7,
   "id": "952f87d2",
   "metadata": {},
   "outputs": [
    {
     "name": "stdout",
     "output_type": "stream",
     "text": [
      "The hackerrank team is on a mission to flatten the world by restructuring the DNA of every company on the planet. We rank programmers based on their coding skills, helping companies source great programmers and reduce the time to hire. As a result, we are revolutionizing the way companies discover and evaluate talented engineers. The hackerrank platform is the destination for the best engineers to hone their skills and companies to find top engineers.\n",
      "Number of matches : 2\n"
     ]
    }
   ],
   "source": [
    "Regex_Pattern = r\"hackerrank\"\t# Do not delete 'r'.\n",
    "\n",
    "import re\n",
    "\n",
    "Test_String = input()\n",
    "\n",
    "match = re.findall(Regex_Pattern, Test_String)\n",
    "\n",
    "print(\"Number of matches :\", len(match))"
   ]
  },
  {
   "cell_type": "markdown",
   "id": "53a63189",
   "metadata": {},
   "source": [
    "# Question 04"
   ]
  },
  {
   "cell_type": "code",
   "execution_count": 1,
   "id": "167e9858",
   "metadata": {},
   "outputs": [
    {
     "name": "stdout",
     "output_type": "stream",
     "text": [
      "06-11-2015\n",
      "true\n"
     ]
    }
   ],
   "source": [
    "Regex_Pattern = r\"\\d\\d\\D\\d\\d\\D\\d\\d\\d\\d\"\t# Do not delete 'r'.\n",
    "\n",
    "import re\n",
    "\n",
    "print(str(bool(re.search(Regex_Pattern, input()))).lower())"
   ]
  },
  {
   "cell_type": "markdown",
   "id": "0cd5ad63",
   "metadata": {},
   "source": [
    "# Question 05"
   ]
  },
  {
   "cell_type": "code",
   "execution_count": 3,
   "id": "007161df",
   "metadata": {},
   "outputs": [
    {
     "name": "stdout",
     "output_type": "stream",
     "text": [
      "1203x.\n",
      "true\n"
     ]
    }
   ],
   "source": [
    "Regex_Pattern = r'^[123][120][xs0][30Aa][xsu][\\.,]$'\t# Do not delete 'r'.\n",
    "\n",
    "import re\n",
    "\n",
    "print(str(bool(re.search(Regex_Pattern, input()))).lower())"
   ]
  },
  {
   "cell_type": "markdown",
   "id": "b66d0d33",
   "metadata": {},
   "source": [
    "# Question 06\n"
   ]
  },
  {
   "cell_type": "code",
   "execution_count": 4,
   "id": "13d02ca1",
   "metadata": {},
   "outputs": [
    {
     "name": "stdout",
     "output_type": "stream",
     "text": [
      "h4CkR\n",
      "true\n"
     ]
    }
   ],
   "source": [
    "Regex_Pattern = r'^[a-z][1-9][^a-z][^A-Z][A-Z]'\t# Do not delete 'r'.\n",
    "\n",
    "import re\n",
    "\n",
    "print(str(bool(re.search(Regex_Pattern, input()))).lower())"
   ]
  },
  {
   "cell_type": "markdown",
   "id": "5566981b",
   "metadata": {},
   "source": [
    "# Question 07"
   ]
  },
  {
   "cell_type": "code",
   "execution_count": 6,
   "id": "eecd9356",
   "metadata": {},
   "outputs": [
    {
     "name": "stdout",
     "output_type": "stream",
     "text": [
      "0qwer.\n",
      "true\n"
     ]
    }
   ],
   "source": [
    "Regex_Pattern = r\"^\\d\\w{4}\\.$\"\t# Do not delete 'r'.\n",
    "\n",
    "import re\n",
    "\n",
    "print(str(bool(re.search(Regex_Pattern, input()))).lower())"
   ]
  },
  {
   "cell_type": "code",
   "execution_count": null,
   "id": "922e32ec",
   "metadata": {},
   "outputs": [],
   "source": []
  }
 ],
 "metadata": {
  "kernelspec": {
   "display_name": "Python 3 (ipykernel)",
   "language": "python",
   "name": "python3"
  },
  "language_info": {
   "codemirror_mode": {
    "name": "ipython",
    "version": 3
   },
   "file_extension": ".py",
   "mimetype": "text/x-python",
   "name": "python",
   "nbconvert_exporter": "python",
   "pygments_lexer": "ipython3",
   "version": "3.9.0"
  },
  "varInspector": {
   "cols": {
    "lenName": 16,
    "lenType": 16,
    "lenVar": 40
   },
   "kernels_config": {
    "python": {
     "delete_cmd_postfix": "",
     "delete_cmd_prefix": "del ",
     "library": "var_list.py",
     "varRefreshCmd": "print(var_dic_list())"
    },
    "r": {
     "delete_cmd_postfix": ") ",
     "delete_cmd_prefix": "rm(",
     "library": "var_list.r",
     "varRefreshCmd": "cat(var_dic_list()) "
    }
   },
   "types_to_exclude": [
    "module",
    "function",
    "builtin_function_or_method",
    "instance",
    "_Feature"
   ],
   "window_display": false
  }
 },
 "nbformat": 4,
 "nbformat_minor": 5
}
